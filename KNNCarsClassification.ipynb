{
 "cells": [
  {
   "cell_type": "code",
   "execution_count": 1,
   "id": "26e8ac9c",
   "metadata": {},
   "outputs": [
    {
     "name": "stdout",
     "output_type": "stream",
     "text": [
      "  buying  maint door persons lug_boot safety  class\n",
      "0  vhigh  vhigh    2       2    small    low  unacc\n",
      "1  vhigh  vhigh    2       2    small    med  unacc\n",
      "2  vhigh  vhigh    2       2    small   high  unacc\n",
      "3  vhigh  vhigh    2       2      med    low  unacc\n",
      "4  vhigh  vhigh    2       2      med    med  unacc\n"
     ]
    }
   ],
   "source": [
    "import sklearn\n",
    "from sklearn.neighbors import KNeighborsClassifier\n",
    "import pandas as pd\n",
    "import numpy as np\n",
    "from sklearn import linear_model,preprocessing\n",
    "from sklearn.preprocessing import LabelEncoder\n",
    "from sklearn.model_selection import train_test_split\n",
    "data=pd.read_csv(\"car.data\")\n",
    "print(data.head())"
   ]
  },
  {
   "cell_type": "code",
   "execution_count": 2,
   "id": "0d0a8ef0",
   "metadata": {},
   "outputs": [
    {
     "data": {
      "text/plain": [
       "2        432\n",
       "3        432\n",
       "4        432\n",
       "5more    432\n",
       "Name: door, dtype: int64"
      ]
     },
     "execution_count": 2,
     "metadata": {},
     "output_type": "execute_result"
    }
   ],
   "source": [
    "data['door'].value_counts()"
   ]
  },
  {
   "cell_type": "code",
   "execution_count": 3,
   "id": "992b047e",
   "metadata": {},
   "outputs": [
    {
     "name": "stdout",
     "output_type": "stream",
     "text": [
      "[1 2 0 ... 1 2 0]\n",
      "2        432\n",
      "3        432\n",
      "4        432\n",
      "5more    432\n",
      "Name: door, dtype: int64\n"
     ]
    }
   ],
   "source": [
    "le=LabelEncoder()\n",
    "buying=le.fit_transform(list(data[\"buying\"]))\n",
    "maint=le.fit_transform(list(data[\"maint\"]))\n",
    "door=le.fit_transform(list(data[\"door\"]))\n",
    "persons=le.fit_transform(list(data[\"persons\"]))\n",
    "lug_boot=le.fit_transform(list(data[\"lug_boot\"]))\n",
    "safety=le.fit_transform(list(data[\"safety\"]))\n",
    "cls=le.fit_transform(list(data[\"class\"]))\n",
    "print(safety)\n",
    "\n",
    "predict=\"class\"\n",
    "print(data['door'].value_counts())"
   ]
  },
  {
   "cell_type": "code",
   "execution_count": 4,
   "id": "c48f04f1",
   "metadata": {},
   "outputs": [
    {
     "name": "stdout",
     "output_type": "stream",
     "text": [
      "   buying  maint  door  persons  lug_boot  safety\n",
      "0       3      3     0        0         2       1\n",
      "1       3      3     0        0         2       2\n",
      "2       3      3     0        0         2       0\n",
      "3       3      3     0        0         1       1\n",
      "4       3      3     0        0         1       2\n",
      "0.9421965317919075\n"
     ]
    }
   ],
   "source": [
    "X=list(zip(buying,maint,door,persons,lug_boot,safety))\n",
    "df=pd.DataFrame(X,columns=['buying','maint','door','persons','lug_boot','safety'])\n",
    "print(df.head())\n",
    "\n",
    "y=list(cls)\n",
    "X_train,X_test,y_train,y_test=train_test_split(X,y,test_size=0.1)\n",
    "model=KNeighborsClassifier(n_neighbors=7)\n",
    "model.fit(X_train,y_train)\n",
    "acc=model.score(X_test,y_test)\n",
    "print(acc)"
   ]
  },
  {
   "cell_type": "code",
   "execution_count": 5,
   "id": "09c1a78c",
   "metadata": {},
   "outputs": [
    {
     "name": "stdout",
     "output_type": "stream",
     "text": [
      "predicted:  good Data:  (0, 2, 1, 0, 1, 0) actual:  good\n",
      "predicted:  unacc Data:  (2, 1, 1, 2, 1, 0) actual:  vgood\n",
      "predicted:  unacc Data:  (0, 0, 1, 2, 1, 0) actual:  unacc\n",
      "predicted:  good Data:  (2, 0, 2, 0, 2, 2) actual:  good\n",
      "predicted:  good Data:  (3, 1, 1, 2, 1, 2) actual:  unacc\n",
      "predicted:  good Data:  (2, 3, 3, 2, 0, 1) actual:  good\n",
      "predicted:  good Data:  (2, 1, 1, 0, 1, 1) actual:  good\n",
      "predicted:  good Data:  (3, 0, 1, 0, 0, 0) actual:  good\n",
      "predicted:  good Data:  (0, 0, 2, 2, 2, 2) actual:  good\n",
      "predicted:  good Data:  (0, 0, 2, 0, 0, 2) actual:  good\n",
      "predicted:  unacc Data:  (0, 1, 3, 1, 1, 0) actual:  unacc\n",
      "predicted:  unacc Data:  (2, 2, 2, 1, 2, 2) actual:  unacc\n",
      "predicted:  good Data:  (3, 2, 1, 2, 2, 1) actual:  good\n",
      "predicted:  good Data:  (0, 3, 0, 0, 2, 0) actual:  good\n",
      "predicted:  good Data:  (1, 3, 0, 0, 1, 2) actual:  good\n",
      "predicted:  good Data:  (3, 3, 3, 2, 2, 1) actual:  good\n",
      "predicted:  good Data:  (0, 0, 1, 2, 1, 2) actual:  unacc\n",
      "predicted:  good Data:  (0, 2, 1, 1, 1, 1) actual:  good\n",
      "predicted:  good Data:  (3, 3, 1, 0, 2, 2) actual:  good\n",
      "predicted:  good Data:  (2, 3, 3, 0, 2, 0) actual:  good\n",
      "predicted:  good Data:  (1, 2, 3, 0, 0, 0) actual:  good\n",
      "predicted:  good Data:  (3, 2, 0, 0, 0, 0) actual:  good\n",
      "predicted:  good Data:  (1, 3, 3, 0, 1, 2) actual:  good\n",
      "predicted:  good Data:  (0, 1, 0, 0, 0, 1) actual:  good\n",
      "predicted:  good Data:  (2, 0, 3, 0, 2, 1) actual:  good\n",
      "predicted:  good Data:  (3, 3, 3, 2, 1, 1) actual:  good\n",
      "predicted:  unacc Data:  (0, 0, 2, 1, 0, 2) actual:  unacc\n",
      "predicted:  unacc Data:  (1, 0, 3, 2, 0, 2) actual:  unacc\n",
      "predicted:  good Data:  (3, 2, 2, 2, 2, 1) actual:  good\n",
      "predicted:  good Data:  (2, 1, 2, 0, 0, 1) actual:  good\n",
      "predicted:  unacc Data:  (1, 3, 1, 2, 1, 0) actual:  unacc\n",
      "predicted:  good Data:  (0, 3, 0, 0, 0, 1) actual:  good\n",
      "predicted:  good Data:  (2, 1, 2, 2, 0, 1) actual:  good\n",
      "predicted:  good Data:  (2, 3, 2, 1, 2, 2) actual:  good\n",
      "predicted:  good Data:  (3, 1, 2, 0, 2, 2) actual:  good\n",
      "predicted:  good Data:  (0, 2, 1, 0, 0, 2) actual:  good\n",
      "predicted:  good Data:  (2, 3, 1, 0, 2, 2) actual:  good\n",
      "predicted:  good Data:  (2, 0, 0, 1, 1, 2) actual:  good\n",
      "predicted:  unacc Data:  (3, 2, 3, 1, 0, 0) actual:  unacc\n",
      "predicted:  good Data:  (0, 3, 2, 0, 2, 2) actual:  good\n",
      "predicted:  unacc Data:  (1, 3, 2, 2, 1, 0) actual:  unacc\n",
      "predicted:  good Data:  (2, 3, 0, 1, 1, 1) actual:  good\n",
      "predicted:  good Data:  (1, 1, 0, 2, 0, 1) actual:  good\n",
      "predicted:  good Data:  (2, 1, 2, 0, 1, 1) actual:  good\n",
      "predicted:  good Data:  (0, 2, 2, 0, 0, 2) actual:  good\n",
      "predicted:  good Data:  (2, 1, 3, 0, 2, 1) actual:  good\n",
      "predicted:  good Data:  (2, 3, 1, 1, 1, 1) actual:  good\n",
      "predicted:  good Data:  (2, 0, 0, 1, 0, 1) actual:  good\n",
      "predicted:  good Data:  (3, 3, 0, 2, 2, 2) actual:  good\n",
      "predicted:  good Data:  (0, 1, 3, 1, 0, 0) actual:  unacc\n",
      "predicted:  good Data:  (3, 1, 3, 0, 1, 1) actual:  good\n",
      "predicted:  good Data:  (0, 0, 1, 2, 0, 1) actual:  good\n",
      "predicted:  good Data:  (3, 3, 1, 1, 1, 2) actual:  good\n",
      "predicted:  good Data:  (0, 2, 0, 1, 2, 2) actual:  good\n",
      "predicted:  good Data:  (1, 1, 1, 0, 1, 1) actual:  good\n",
      "predicted:  good Data:  (1, 0, 3, 0, 2, 0) actual:  good\n",
      "predicted:  good Data:  (3, 3, 2, 0, 2, 2) actual:  good\n",
      "predicted:  vgood Data:  (1, 0, 0, 1, 0, 0) actual:  vgood\n",
      "predicted:  good Data:  (2, 0, 2, 0, 1, 0) actual:  good\n",
      "predicted:  good Data:  (0, 1, 2, 0, 0, 0) actual:  good\n",
      "predicted:  unacc Data:  (0, 1, 3, 2, 0, 0) actual:  unacc\n",
      "predicted:  good Data:  (0, 3, 2, 2, 2, 2) actual:  good\n",
      "predicted:  good Data:  (3, 3, 3, 0, 1, 2) actual:  good\n",
      "predicted:  good Data:  (0, 2, 0, 2, 2, 0) actual:  good\n",
      "predicted:  good Data:  (3, 3, 1, 2, 2, 0) actual:  good\n",
      "predicted:  good Data:  (1, 2, 1, 0, 2, 2) actual:  good\n",
      "predicted:  good Data:  (2, 1, 3, 0, 0, 0) actual:  good\n",
      "predicted:  vgood Data:  (1, 2, 1, 2, 0, 0) actual:  vgood\n",
      "predicted:  good Data:  (3, 0, 0, 2, 2, 0) actual:  good\n",
      "predicted:  good Data:  (3, 1, 2, 0, 0, 0) actual:  good\n",
      "predicted:  vgood Data:  (1, 2, 3, 1, 1, 0) actual:  vgood\n",
      "predicted:  good Data:  (0, 0, 0, 0, 1, 1) actual:  good\n",
      "predicted:  good Data:  (3, 1, 2, 0, 0, 2) actual:  good\n",
      "predicted:  good Data:  (2, 1, 2, 1, 2, 2) actual:  unacc\n",
      "predicted:  good Data:  (3, 1, 1, 1, 1, 1) actual:  good\n",
      "predicted:  good Data:  (1, 3, 0, 0, 2, 0) actual:  good\n",
      "predicted:  unacc Data:  (1, 2, 3, 2, 2, 2) actual:  unacc\n",
      "predicted:  unacc Data:  (2, 0, 0, 2, 1, 2) actual:  good\n",
      "predicted:  good Data:  (2, 3, 3, 2, 2, 1) actual:  good\n",
      "predicted:  good Data:  (2, 2, 3, 1, 2, 1) actual:  good\n",
      "predicted:  unacc Data:  (2, 3, 3, 1, 1, 0) actual:  unacc\n",
      "predicted:  unacc Data:  (2, 2, 0, 2, 1, 0) actual:  unacc\n",
      "predicted:  unacc Data:  (0, 1, 2, 1, 1, 0) actual:  unacc\n",
      "predicted:  good Data:  (0, 1, 3, 1, 2, 2) actual:  good\n",
      "predicted:  unacc Data:  (3, 1, 0, 1, 0, 0) actual:  unacc\n",
      "predicted:  good Data:  (0, 1, 0, 1, 1, 1) actual:  good\n",
      "predicted:  good Data:  (0, 3, 2, 1, 0, 0) actual:  good\n",
      "predicted:  good Data:  (0, 2, 0, 2, 2, 1) actual:  good\n",
      "predicted:  good Data:  (3, 0, 1, 2, 1, 0) actual:  good\n",
      "predicted:  good Data:  (1, 3, 3, 0, 0, 0) actual:  good\n",
      "predicted:  unacc Data:  (2, 1, 2, 1, 2, 0) actual:  acc\n",
      "predicted:  good Data:  (3, 0, 3, 0, 0, 0) actual:  good\n",
      "predicted:  good Data:  (1, 1, 1, 0, 2, 0) actual:  good\n",
      "predicted:  good Data:  (0, 1, 2, 0, 0, 1) actual:  good\n",
      "predicted:  good Data:  (0, 3, 1, 1, 0, 2) actual:  good\n",
      "predicted:  good Data:  (2, 1, 0, 0, 2, 1) actual:  good\n",
      "predicted:  unacc Data:  (2, 2, 2, 2, 2, 2) actual:  unacc\n",
      "predicted:  unacc Data:  (1, 3, 1, 1, 0, 2) actual:  unacc\n",
      "predicted:  unacc Data:  (0, 2, 3, 2, 1, 0) actual:  unacc\n",
      "predicted:  acc Data:  (2, 1, 2, 2, 0, 2) actual:  acc\n",
      "predicted:  good Data:  (1, 3, 0, 0, 0, 1) actual:  good\n",
      "predicted:  unacc Data:  (3, 1, 2, 2, 1, 2) actual:  unacc\n",
      "predicted:  good Data:  (0, 0, 2, 2, 0, 1) actual:  good\n",
      "predicted:  good Data:  (1, 3, 2, 1, 0, 1) actual:  good\n",
      "predicted:  good Data:  (2, 2, 3, 2, 1, 1) actual:  good\n",
      "predicted:  good Data:  (1, 1, 1, 1, 0, 1) actual:  good\n",
      "predicted:  good Data:  (1, 2, 0, 2, 2, 1) actual:  good\n",
      "predicted:  unacc Data:  (1, 0, 3, 1, 1, 2) actual:  unacc\n",
      "predicted:  good Data:  (1, 2, 1, 1, 2, 1) actual:  good\n",
      "predicted:  good Data:  (1, 3, 3, 1, 1, 0) actual:  unacc\n",
      "predicted:  good Data:  (3, 1, 1, 2, 0, 1) actual:  good\n",
      "predicted:  good Data:  (0, 1, 3, 0, 1, 2) actual:  good\n",
      "predicted:  good Data:  (0, 0, 3, 2, 2, 2) actual:  good\n",
      "predicted:  good Data:  (3, 1, 3, 1, 2, 1) actual:  good\n",
      "predicted:  good Data:  (3, 3, 1, 0, 1, 0) actual:  good\n",
      "predicted:  good Data:  (3, 2, 0, 0, 2, 1) actual:  good\n",
      "predicted:  good Data:  (3, 3, 1, 2, 1, 0) actual:  good\n",
      "predicted:  good Data:  (3, 3, 1, 1, 0, 1) actual:  good\n",
      "predicted:  good Data:  (3, 0, 3, 1, 1, 0) actual:  good\n",
      "predicted:  good Data:  (2, 2, 3, 0, 1, 2) actual:  good\n",
      "predicted:  unacc Data:  (3, 2, 2, 2, 2, 0) actual:  unacc\n",
      "predicted:  good Data:  (3, 3, 3, 1, 2, 0) actual:  good\n",
      "predicted:  good Data:  (3, 2, 3, 0, 0, 0) actual:  good\n",
      "predicted:  unacc Data:  (0, 1, 1, 2, 2, 0) actual:  unacc\n",
      "predicted:  good Data:  (1, 2, 3, 0, 1, 2) actual:  good\n",
      "predicted:  good Data:  (0, 1, 1, 1, 2, 1) actual:  good\n",
      "predicted:  good Data:  (2, 2, 2, 0, 2, 1) actual:  good\n",
      "predicted:  good Data:  (1, 0, 3, 0, 0, 1) actual:  good\n",
      "predicted:  good Data:  (0, 2, 0, 2, 1, 1) actual:  good\n",
      "predicted:  good Data:  (2, 3, 0, 0, 0, 0) actual:  good\n",
      "predicted:  good Data:  (0, 1, 0, 2, 1, 2) actual:  good\n",
      "predicted:  good Data:  (2, 1, 1, 0, 2, 2) actual:  good\n",
      "predicted:  good Data:  (2, 3, 1, 0, 0, 1) actual:  good\n",
      "predicted:  good Data:  (1, 3, 1, 1, 0, 1) actual:  good\n",
      "predicted:  good Data:  (3, 1, 1, 0, 2, 2) actual:  good\n",
      "predicted:  good Data:  (0, 3, 1, 2, 1, 2) actual:  good\n",
      "predicted:  good Data:  (0, 2, 3, 1, 0, 1) actual:  good\n",
      "predicted:  good Data:  (2, 0, 1, 1, 0, 1) actual:  good\n",
      "predicted:  good Data:  (3, 0, 3, 0, 1, 2) actual:  good\n",
      "predicted:  good Data:  (1, 1, 0, 1, 2, 0) actual:  acc\n",
      "predicted:  good Data:  (3, 1, 1, 1, 2, 2) actual:  good\n",
      "predicted:  good Data:  (2, 0, 0, 0, 0, 0) actual:  good\n",
      "predicted:  unacc Data:  (0, 0, 3, 1, 2, 0) actual:  unacc\n",
      "predicted:  unacc Data:  (1, 3, 2, 2, 0, 2) actual:  unacc\n",
      "predicted:  good Data:  (2, 2, 3, 0, 2, 2) actual:  good\n",
      "predicted:  unacc Data:  (2, 2, 2, 1, 1, 2) actual:  unacc\n",
      "predicted:  unacc Data:  (3, 1, 3, 1, 0, 0) actual:  unacc\n",
      "predicted:  good Data:  (3, 0, 2, 0, 0, 0) actual:  good\n",
      "predicted:  good Data:  (0, 0, 0, 1, 0, 1) actual:  good\n",
      "predicted:  good Data:  (3, 0, 1, 0, 1, 1) actual:  good\n",
      "predicted:  good Data:  (3, 2, 1, 0, 1, 0) actual:  good\n",
      "predicted:  good Data:  (1, 2, 3, 1, 1, 1) actual:  good\n",
      "predicted:  good Data:  (3, 1, 1, 0, 1, 0) actual:  good\n",
      "predicted:  good Data:  (0, 3, 3, 1, 0, 2) actual:  good\n",
      "predicted:  good Data:  (2, 2, 0, 2, 2, 0) actual:  good\n",
      "predicted:  good Data:  (2, 0, 2, 1, 2, 1) actual:  good\n",
      "predicted:  good Data:  (2, 2, 0, 2, 0, 1) actual:  good\n",
      "predicted:  good Data:  (1, 2, 1, 0, 2, 0) actual:  good\n",
      "predicted:  good Data:  (0, 3, 2, 0, 2, 1) actual:  good\n",
      "predicted:  good Data:  (0, 3, 0, 0, 0, 2) actual:  good\n",
      "predicted:  good Data:  (1, 3, 2, 1, 1, 2) actual:  unacc\n",
      "predicted:  good Data:  (3, 1, 3, 1, 2, 2) actual:  good\n",
      "predicted:  unacc Data:  (0, 0, 3, 1, 0, 0) actual:  unacc\n",
      "predicted:  good Data:  (3, 1, 1, 2, 2, 1) actual:  good\n",
      "predicted:  good Data:  (2, 1, 1, 0, 1, 0) actual:  good\n",
      "predicted:  good Data:  (0, 1, 3, 2, 2, 2) actual:  good\n",
      "predicted:  good Data:  (2, 1, 0, 0, 0, 0) actual:  good\n",
      "predicted:  good Data:  (1, 0, 2, 2, 2, 1) actual:  good\n"
     ]
    },
    {
     "name": "stdout",
     "output_type": "stream",
     "text": [
      "predicted:  good Data:  (0, 1, 0, 2, 2, 1) actual:  good\n",
      "predicted:  good Data:  (3, 0, 2, 0, 1, 0) actual:  good\n",
      "predicted:  good Data:  (3, 3, 1, 1, 0, 2) actual:  good\n",
      "predicted:  good Data:  (3, 1, 3, 0, 0, 0) actual:  good\n",
      "predicted:  unacc Data:  (1, 3, 3, 1, 0, 0) actual:  unacc\n"
     ]
    }
   ],
   "source": [
    "names=[\"unacc\",\"acc\",\"good\",\"vgood\"]\n",
    "prediction=model.predict(X_test)\n",
    "for x in range(len(prediction)):\n",
    "    print(\"predicted: \",names[prediction[x]],\"Data: \",X_test[x],\"actual: \",names[y_test[x]])"
   ]
  },
  {
   "cell_type": "code",
   "execution_count": null,
   "id": "9171051f",
   "metadata": {},
   "outputs": [],
   "source": []
  },
  {
   "cell_type": "code",
   "execution_count": null,
   "id": "f247e49a",
   "metadata": {},
   "outputs": [],
   "source": []
  }
 ],
 "metadata": {
  "kernelspec": {
   "display_name": "Python 3 (ipykernel)",
   "language": "python",
   "name": "python3"
  },
  "language_info": {
   "codemirror_mode": {
    "name": "ipython",
    "version": 3
   },
   "file_extension": ".py",
   "mimetype": "text/x-python",
   "name": "python",
   "nbconvert_exporter": "python",
   "pygments_lexer": "ipython3",
   "version": "3.11.5"
  }
 },
 "nbformat": 4,
 "nbformat_minor": 5
}
